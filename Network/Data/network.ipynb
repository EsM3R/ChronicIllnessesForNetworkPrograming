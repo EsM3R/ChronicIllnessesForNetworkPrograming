{
 "cells": [
  {
   "cell_type": "code",
   "execution_count": 1,
   "metadata": {},
   "outputs": [],
   "source": [
    "import pandas as pd "
   ]
  },
  {
   "cell_type": "markdown",
   "metadata": {},
   "source": [
    "Veri Temizleme"
   ]
  },
  {
   "cell_type": "code",
   "execution_count": 2,
   "metadata": {},
   "outputs": [
    {
     "name": "stderr",
     "output_type": "stream",
     "text": [
      "/var/folders/3d/wvjl21js6v1244v612p863800000gn/T/ipykernel_3019/2454266861.py:1: DtypeWarning: Columns (5) have mixed types. Specify dtype option on import or set low_memory=False.\n",
      "  data = pd.read_csv(\"export.csv\")\n"
     ]
    }
   ],
   "source": [
    "data = pd.read_csv(\"export.csv\")\n"
   ]
  },
  {
   "cell_type": "code",
   "execution_count": 3,
   "metadata": {},
   "outputs": [],
   "source": [
    "# treatment_ids = data[data['trackable_type'] == 'Treatment']['user_id'].unique()\n",
    "# filtered_data = data[data['user_id'].isin(treatment_ids)]\n",
    "# filtered_data.to_csv('filtered_data.csv', index=False)\n"
   ]
  },
  {
   "cell_type": "code",
   "execution_count": 7,
   "metadata": {},
   "outputs": [
    {
     "name": "stderr",
     "output_type": "stream",
     "text": [
      "/var/folders/3d/wvjl21js6v1244v612p863800000gn/T/ipykernel_3019/3591813294.py:1: DtypeWarning: Columns (5) have mixed types. Specify dtype option on import or set low_memory=False.\n",
      "  df = pd.read_csv(\"filtered_data.csv\")\n"
     ]
    }
   ],
   "source": [
    "# df = pd.read_csv(\"filtered_data.csv\")\n",
    "\n",
    "# missing_age_ids = df[df['age'].isna()]['user_id'].unique()\n",
    "\n",
    "# df_cleaned = df[~df['user_id'].isin(missing_age_ids)]\n",
    "\n",
    "# df_cleaned.to_csv('filtered_data2.csv', index=False)"
   ]
  },
  {
   "cell_type": "code",
   "execution_count": 9,
   "metadata": {},
   "outputs": [
    {
     "name": "stderr",
     "output_type": "stream",
     "text": [
      "/var/folders/3d/wvjl21js6v1244v612p863800000gn/T/ipykernel_3019/1372163743.py:2: DtypeWarning: Columns (5) have mixed types. Specify dtype option on import or set low_memory=False.\n",
      "  df = pd.read_csv(\"filtered_data2.csv\")\n"
     ]
    }
   ],
   "source": [
    "\n",
    "df = pd.read_csv(\"filtered_data2.csv\")\n",
    "df_filtered = df[df['sex'].isin(['male', 'female'])]\n",
    "df_filtered.to_csv('filtered_data23.csv', index=False)\n",
    "\n"
   ]
  },
  {
   "cell_type": "markdown",
   "metadata": {},
   "source": [
    "Veri Ekleme"
   ]
  },
  {
   "cell_type": "code",
   "execution_count": 25,
   "metadata": {},
   "outputs": [],
   "source": [
    "from neo4j import GraphDatabase"
   ]
  },
  {
   "cell_type": "code",
   "execution_count": 26,
   "metadata": {},
   "outputs": [],
   "source": [
    "url = \"bolt://localhost:7687\"\n",
    "username = \"neo4j\"\n",
    "password = \"Mehmet1173.\"\n",
    "driver = GraphDatabase.driver(url, auth=(username, password))\n"
   ]
  },
  {
   "cell_type": "code",
   "execution_count": null,
   "metadata": {},
   "outputs": [],
   "source": []
  },
  {
   "cell_type": "code",
   "execution_count": null,
   "metadata": {},
   "outputs": [],
   "source": []
  },
  {
   "cell_type": "markdown",
   "metadata": {},
   "source": []
  },
  {
   "cell_type": "markdown",
   "metadata": {},
   "source": []
  }
 ],
 "metadata": {
  "kernelspec": {
   "display_name": "Python 3",
   "language": "python",
   "name": "python3"
  },
  "language_info": {
   "codemirror_mode": {
    "name": "ipython",
    "version": 3
   },
   "file_extension": ".py",
   "mimetype": "text/x-python",
   "name": "python",
   "nbconvert_exporter": "python",
   "pygments_lexer": "ipython3",
   "version": "3.10.4"
  }
 },
 "nbformat": 4,
 "nbformat_minor": 2
}
